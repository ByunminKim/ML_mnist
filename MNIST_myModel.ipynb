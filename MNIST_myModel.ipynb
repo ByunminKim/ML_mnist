{
 "cells": [
  {
   "cell_type": "markdown",
   "id": "0382d1d4",
   "metadata": {},
   "source": [
    "## 패키지 import 및 dataset load"
   ]
  },
  {
   "cell_type": "code",
   "execution_count": 1,
   "id": "300f4531",
   "metadata": {},
   "outputs": [],
   "source": [
    "# Python ≥3.5 is required\n",
    "import sys\n",
    "assert sys.version_info >= (3, 5)\n",
    "\n",
    "# Scikit-Learn ≥0.20 is required\n",
    "import sklearn\n",
    "assert sklearn.__version__ >= \"0.20\"\n",
    "\n",
    "# Common imports\n",
    "import numpy as np\n",
    "import os\n",
    "\n",
    "# to make this notebook's output stable across runs\n",
    "np.random.seed(42)\n",
    "\n",
    "# To plot pretty figures\n",
    "%matplotlib inline\n",
    "import matplotlib as mpl\n",
    "import matplotlib.pyplot as plt\n",
    "mpl.rc('axes', labelsize=14)\n",
    "mpl.rc('xtick', labelsize=12)\n",
    "mpl.rc('ytick', labelsize=12)\n",
    "\n",
    "# Where to save the figures\n",
    "PROJECT_ROOT_DIR = \".\"\n",
    "CHAPTER_ID = \"3_classification\"\n",
    "IMAGES_PATH = os.path.join(PROJECT_ROOT_DIR, \"images\", CHAPTER_ID)\n",
    "os.makedirs(IMAGES_PATH, exist_ok=True)\n",
    "\n",
    "def save_fig(fig_id, tight_layout=True, fig_extension=\"png\", resolution=300):\n",
    "    path = os.path.join(IMAGES_PATH, fig_id + \".\" + fig_extension)\n",
    "    print(\"Saving figure\", fig_id)\n",
    "    if tight_layout:\n",
    "        plt.tight_layout()\n",
    "    plt.savefig(path, format=fig_extension, dpi=resolution)"
   ]
  },
  {
   "cell_type": "code",
   "execution_count": 2,
   "id": "25a2cead",
   "metadata": {},
   "outputs": [
    {
     "data": {
      "text/plain": [
       "dict_keys(['data', 'target', 'frame', 'categories', 'feature_names', 'target_names', 'DESCR', 'details', 'url'])"
      ]
     },
     "execution_count": 2,
     "metadata": {},
     "output_type": "execute_result"
    }
   ],
   "source": [
    "from sklearn.datasets import fetch_openml\n",
    "mnist = fetch_openml('mnist_784', version=1)\n",
    "mnist.keys()"
   ]
  },
  {
   "cell_type": "code",
   "execution_count": 3,
   "id": "87dfb47a",
   "metadata": {},
   "outputs": [
    {
     "name": "stdout",
     "output_type": "stream",
     "text": [
      "(70000, 784) float64\n",
      "(70000,) object\n"
     ]
    }
   ],
   "source": [
    "X, y = mnist[\"data\"], mnist[\"target\"] # X, y: pandas DataFrame\n",
    "print(X.shape, X.dtype)\n",
    "print(y.shape, y.dtype)"
   ]
  },
  {
   "cell_type": "code",
   "execution_count": 4,
   "id": "a24f4762",
   "metadata": {},
   "outputs": [
    {
     "name": "stdout",
     "output_type": "stream",
     "text": [
      "uint8\n"
     ]
    }
   ],
   "source": [
    "y = y.astype(np.uint8)\n",
    "print(y.dtype)"
   ]
  },
  {
   "cell_type": "code",
   "execution_count": 5,
   "id": "60021111",
   "metadata": {},
   "outputs": [],
   "source": [
    "X_train, X_test, y_train, y_test = X[:60000], X[60000:], y[:60000], y[60000:]"
   ]
  },
  {
   "cell_type": "code",
   "execution_count": 6,
   "id": "86c5de9f",
   "metadata": {},
   "outputs": [],
   "source": [
    "# Import classifiers\n",
    "\n",
    "from sklearn.neural_network import MLPClassifier # Neural network!\n",
    "from sklearn.ensemble import RandomForestClassifier\n",
    "from sklearn.ensemble import ExtraTreesClassifier\n",
    "from sklearn.svm import SVC\n",
    "from sklearn.tree import DecisionTreeClassifier\n",
    "from sklearn.neighbors import KNeighborsClassifier"
   ]
  },
  {
   "cell_type": "code",
   "execution_count": 7,
   "id": "218685cb",
   "metadata": {},
   "outputs": [],
   "source": [
    "# classifier generation\n",
    "\n",
    "mlp_clf = MLPClassifier(random_state=42)\n",
    "rf_clf = RandomForestClassifier(random_state=42)\n",
    "et_clf = ExtraTreesClassifier(random_state=42)\n",
    "svm_clf = SVC(random_state=42, probability= True)\n",
    "# dt_clf = DecisionTreeClassifier(random_state=42)\n",
    "knn_clf = KNeighborsClassifier(n_neighbors=3, n_jobs=-1)"
   ]
  },
  {
   "cell_type": "code",
   "execution_count": 8,
   "id": "16bd86a6",
   "metadata": {},
   "outputs": [
    {
     "name": "stdout",
     "output_type": "stream",
     "text": [
      "MLPClassifier 0.9668\n",
      "RandomForestClassifier 0.9705\n",
      "ExtraTreesClassifier 0.9722\n",
      "SVC 0.9792\n",
      "KNeighborsClassifier 0.9705\n"
     ]
    }
   ],
   "source": [
    "# Training  classifiers\n",
    "from sklearn.metrics import accuracy_score\n",
    "\n",
    "# 개별 모델의 학습/예측/평가. \n",
    "estimators = [mlp_clf, rf_clf, et_clf, svm_clf, knn_clf]\n",
    "for estimator in estimators:\n",
    "    estimator.fit(X_train, y_train)\n",
    "    y_pred = estimator.predict(X_test)\n",
    "    # Print scoresv\n",
    "    print(estimator.__class__.__name__, accuracy_score(y_test, y_pred))"
   ]
  },
  {
   "cell_type": "markdown",
   "id": "e26b5a21",
   "metadata": {},
   "source": [
    "## model 1. Voting Classiffier"
   ]
  },
  {
   "cell_type": "code",
   "execution_count": 9,
   "id": "1147da8d",
   "metadata": {},
   "outputs": [],
   "source": [
    "# Define named_estimators for ensemble learning\n",
    "named_estimators = [\n",
    "    ('mlp', mlp_clf), ('rf', rf_clf), ('et', et_clf), ('svm', svm_clf), ('knn', knn_clf)\n",
    "]"
   ]
  },
  {
   "cell_type": "code",
   "execution_count": 10,
   "id": "7a14a101",
   "metadata": {},
   "outputs": [],
   "source": [
    "# Define voting_clf\n",
    "from sklearn.ensemble import VotingClassifier\n",
    "\n",
    "# 보통 성능이 더 좋은 soft voting을 이용\n",
    "voting_clf = VotingClassifier(named_estimators, voting='soft')"
   ]
  },
  {
   "cell_type": "code",
   "execution_count": 11,
   "id": "3c97042a",
   "metadata": {},
   "outputs": [
    {
     "name": "stdout",
     "output_type": "stream",
     "text": [
      "VotingClassifier 0.9705\n"
     ]
    }
   ],
   "source": [
    "# VotingClassifier 학습/예측/평가. \n",
    "voting_clf.fit(X_train , y_train) \n",
    "pred = voting_clf.predict(X_test) \n",
    "print(voting_clf.__class__.__name__, accuracy_score(y_test, y_pred))"
   ]
  },
  {
   "cell_type": "markdown",
   "id": "8c76f5c0",
   "metadata": {},
   "source": [
    "## model 2. Gradient Boost_XGBoost_myModel"
   ]
  },
  {
   "cell_type": "code",
   "execution_count": 12,
   "id": "e09af5f7",
   "metadata": {},
   "outputs": [],
   "source": [
    "# Gradient Boost - LightGBM"
   ]
  },
  {
   "cell_type": "code",
   "execution_count": 13,
   "id": "9f4cfa3f",
   "metadata": {},
   "outputs": [],
   "source": [
    "# Gradient Boost - CatBoost\n",
    "# 일반적으로 성능 cat>Light>XGB"
   ]
  },
  {
   "cell_type": "markdown",
   "id": "ed009a69",
   "metadata": {},
   "source": [
    "# model 3. 실습 XGBoost"
   ]
  },
  {
   "cell_type": "code",
   "execution_count": 14,
   "id": "8e73fa4a",
   "metadata": {},
   "outputs": [],
   "source": [
    "from xgboost import XGBClassifier"
   ]
  },
  {
   "cell_type": "code",
   "execution_count": 15,
   "id": "6a43979d",
   "metadata": {},
   "outputs": [
    {
     "name": "stderr",
     "output_type": "stream",
     "text": [
      "c:\\anaconda3\\envs\\ml2021\\lib\\site-packages\\xgboost\\sklearn.py:888: UserWarning: The use of label encoder in XGBClassifier is deprecated and will be removed in a future release. To remove this warning, do the following: 1) Pass option use_label_encoder=False when constructing XGBClassifier object; and 2) Encode your labels (y) as integers starting with 0, i.e. 0, 1, 2, ..., [num_class - 1].\n",
      "  warnings.warn(label_encoder_deprecation_msg, UserWarning)\n"
     ]
    },
    {
     "name": "stdout",
     "output_type": "stream",
     "text": [
      "[00:11:38] WARNING: ..\\src\\learner.cc:1061: Starting in XGBoost 1.3.0, the default evaluation metric used with the objective 'multi:softprob' was changed from 'merror' to 'mlogloss'. Explicitly set eval_metric if you'd like to restore the old behavior.\n",
      "XGBClassifier 0.978\n"
     ]
    }
   ],
   "source": [
    "xgb_clf = XGBClassifier(random_state=42)\n",
    "xgb_clf.fit(X_train, y_train)\n",
    "y_pred = xgb_clf.predict(X_test)\n",
    "print(xgb_clf.__class__.__name__, accuracy_score(y_test, y_pred))"
   ]
  },
  {
   "cell_type": "markdown",
   "id": "7fb74a1a",
   "metadata": {},
   "source": [
    "# test set 성능 평가"
   ]
  },
  {
   "cell_type": "code",
   "execution_count": 16,
   "id": "c59b6227",
   "metadata": {},
   "outputs": [
    {
     "name": "stdout",
     "output_type": "stream",
     "text": [
      "MLPClassifier 0.9668\n",
      "RandomForestClassifier 0.9705\n",
      "ExtraTreesClassifier 0.9722\n",
      "SVC 0.9792\n",
      "KNeighborsClassifier 0.9705\n",
      "VotingClassifier 0.9809\n",
      "XGBClassifier 0.978\n"
     ]
    }
   ],
   "source": [
    "# scores of each estimator for test sets\n",
    "clf = [mlp_clf, rf_clf, et_clf, svm_clf, knn_clf, voting_clf, xgb_clf]\n",
    "for clf in clf:\n",
    "    print(clf.__class__.__name__, clf.score(X_test, y_test))"
   ]
  },
  {
   "cell_type": "code",
   "execution_count": null,
   "id": "4e26abf7",
   "metadata": {},
   "outputs": [],
   "source": []
  },
  {
   "cell_type": "code",
   "execution_count": null,
   "id": "be088ea3",
   "metadata": {},
   "outputs": [],
   "source": []
  }
 ],
 "metadata": {
  "kernelspec": {
   "display_name": "Python 3 (ipykernel)",
   "language": "python",
   "name": "python3"
  },
  "language_info": {
   "codemirror_mode": {
    "name": "ipython",
    "version": 3
   },
   "file_extension": ".py",
   "mimetype": "text/x-python",
   "name": "python",
   "nbconvert_exporter": "python",
   "pygments_lexer": "ipython3",
   "version": "3.8.8"
  }
 },
 "nbformat": 4,
 "nbformat_minor": 5
}
