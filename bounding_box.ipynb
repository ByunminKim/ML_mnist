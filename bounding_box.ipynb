{
 "cells": [
  {
   "cell_type": "code",
   "execution_count": 18,
   "id": "db4ee034",
   "metadata": {},
   "outputs": [],
   "source": [
    "import cv2\n",
    "import os\n",
    "import glob\n",
    "import numpy as np"
   ]
  },
  {
   "cell_type": "code",
   "execution_count": 28,
   "id": "2bf5cd08",
   "metadata": {},
   "outputs": [
    {
     "data": {
      "text/plain": [
       "'C:\\\\Users\\\\shs66\\\\OneDrive - 숭실대학교 - Soongsil University\\\\Study\\\\3-2\\\\Machine Learning\\\\project\\\\new_project'"
      ]
     },
     "execution_count": 28,
     "metadata": {},
     "output_type": "execute_result"
    }
   ],
   "source": [
    "os.getcwd()"
   ]
  },
  {
   "cell_type": "code",
   "execution_count": 20,
   "id": "f144d257",
   "metadata": {},
   "outputs": [
    {
     "data": {
      "text/plain": [
       "['.ipynb_checkpoints',\n",
       " 'bounding_box.ipynb',\n",
       " 'images',\n",
       " 'mnist.jpg',\n",
       " 'MNIST_baseline (1).ipynb',\n",
       " 'MNIST_baseline.ipynb',\n",
       " 'MNIST_baseline_Erosion - 복사본.ipynb',\n",
       " 'MNIST_baseline_Erosion.ipynb',\n",
       " 'save']"
      ]
     },
     "execution_count": 20,
     "metadata": {},
     "output_type": "execute_result"
    }
   ],
   "source": [
    "os.listdir()"
   ]
  },
  {
   "cell_type": "code",
   "execution_count": 21,
   "id": "73e5db00",
   "metadata": {},
   "outputs": [],
   "source": [
    "img = cv2.imread('mnist.jpg', cv2.IMREAD_GRAYSCALE)\n",
    "cimg = cv2.resize(img, (380,380), interpolation=cv2.INTER_AREA)\n",
    "kernel = np.ones((3,3), np.uint8)\n",
    "rimg = cv2.erode(cimg, kernel, iterations = 1)\n",
    "cv2.imshow(\"cimg\",rimg)\n",
    "cv2.waitKey(0)\n",
    "cv2.destroyAllWindows()\n",
    "\n"
   ]
  },
  {
   "cell_type": "code",
   "execution_count": 22,
   "id": "4656d842",
   "metadata": {},
   "outputs": [],
   "source": [
    "filename ='mnist.jpg'"
   ]
  },
  {
   "cell_type": "code",
   "execution_count": 23,
   "id": "29395df0",
   "metadata": {},
   "outputs": [],
   "source": [
    "filename ='mnist.jpg'\n",
    "src = cv2.imread(filename,cv2.IMREAD_GRAYSCALE)\n",
    "src = cv2.resize(src , (380,380),interpolation=cv2.INTER_AREA)\n",
    "kernel = np.ones((3,3), np.uint8)\n",
    "rimg = cv2.erode(src, kernel, iterations = 1)\n",
    "cv2.imshow(\"cimg\",rimg)\n",
    "k=cv2.waitKey(0)\n",
    "cv2.destroyAllWindows()\n"
   ]
  },
  {
   "cell_type": "code",
   "execution_count": 7,
   "id": "f30c12e7",
   "metadata": {},
   "outputs": [],
   "source": [
    "src = src[0:src.shape[0]-10, 15:src.shape[1]-25]\n",
    "ret , binary = cv2.threshold(src,170,255,cv2.THRESH_BINARY_INV)\n",
    "cv2.imshow('binary',binary)\n",
    "k = cv2.waitKey(0)\n",
    "cv2.destroyAllWindows()\n",
    "\n"
   ]
  },
  {
   "cell_type": "code",
   "execution_count": 30,
   "id": "949f6612",
   "metadata": {},
   "outputs": [],
   "source": [
    "contours , hierarchy = cv2.findContours(binary , cv2.RETR_EXTERNAL , cv2.CHAIN_APPROX_SIMPLE) \n",
    "#외곽선 검출 \n",
    "color = cv2.cvtColor(binary, cv2.COLOR_GRAY2BGR) \n",
    "#이진화 이미지를 color이미지로 복사(확인용) \n",
    "cv2.drawContours(color , contours , -1 , (0,255,0),3)\n",
    "#초록색으로 외곽선을 그려준다. #리스트연산을 위해 초기변수 선언 \n",
    "bR_arr = [] \n",
    "digit_arr = []\n",
    "digit_arr2 = [] \n",
    "count = 0 \n",
    "#검출한 외곽선에 사각형을 그려서 배열에 추가 \n",
    "for i in range(len(contours)) :\n",
    "    bin_tmp = binary.copy() \n",
    "    x,y,w,h = cv2.boundingRect(contours[i])\n",
    "    bR_arr.append([x,y,w,h])\n",
    "\n"
   ]
  },
  {
   "cell_type": "code",
   "execution_count": 31,
   "id": "e291cf38",
   "metadata": {},
   "outputs": [
    {
     "name": "stdout",
     "output_type": "stream",
     "text": [
      "[[18, 335, 9, 11], [154, 334, 16, 19], [80, 334, 12, 12], [55, 334, 2, 14], [250, 332, 17, 20]]\n"
     ]
    }
   ],
   "source": [
    "print(bR_arr[:5])"
   ]
  },
  {
   "cell_type": "code",
   "execution_count": 32,
   "id": "9869ed13",
   "metadata": {},
   "outputs": [
    {
     "name": "stdout",
     "output_type": "stream",
     "text": [
      "[[10, 269, 14, 10], [12, 199, 12, 11], [13, 135, 12, 9], [13, 31, 13, 12], [15, 235, 14, 12]]\n"
     ]
    }
   ],
   "source": [
    "bR_arr = sorted(bR_arr, key=lambda num : num[0], reverse = False)\n",
    "print(bR_arr[:5])\n"
   ]
  },
  {
   "cell_type": "code",
   "execution_count": 33,
   "id": "4ebd8555",
   "metadata": {},
   "outputs": [],
   "source": [
    "for x,y,w,h in bR_arr :\n",
    "    tmp_y = bin_tmp[y-2:y+h+2,x-2:x+w+2].shape[0] \n",
    "    tmp_x = bin_tmp[y-2:y+h+2,x-2:x+w+2].shape[1]\n",
    "    if tmp_x and tmp_y > 10 :\n",
    "        count += 1 \n",
    "        cv2.rectangle(color,(x-2,y-2),(x+w+2,y+h+2),(0,0,255),1)\n",
    "        digit_arr.append(bin_tmp[y-2:y+h+2,x-2:x+w+2])\n",
    "        if count == 10 : \n",
    "            digit_arr2.append(digit_arr)\n",
    "            digit_arr = [] \n",
    "            count = 0\n",
    "cv2.imshow('contours',color)\n",
    "\n",
    "k = cv2.waitKey(0) \n",
    "cv2.destroyAllWindows()\n",
    "\n"
   ]
  },
  {
   "cell_type": "code",
   "execution_count": 13,
   "id": "5eda31b4",
   "metadata": {},
   "outputs": [
    {
     "name": "stdout",
     "output_type": "stream",
     "text": [
      "102\n"
     ]
    }
   ],
   "source": [
    "print(len(bR_arr))"
   ]
  },
  {
   "cell_type": "code",
   "execution_count": 29,
   "id": "70a8f4e2",
   "metadata": {},
   "outputs": [],
   "source": [
    "for i in range(0,len(digit_arr2)) :\n",
    "    for j in range(len(digit_arr2[i])) :\n",
    "        count +=1\n",
    "        if i ==1:\n",
    "            width = digit_arr2[i][j].shape[1]\n",
    "            height = digit_arr2[i][j].shape[0]\n",
    "            tmp = (height - width)/2\n",
    "            mask = np.zeros((height,height))\n",
    "            mask[0:height,int(tmp):int(tmp)+width] = digit_arr2[i][j]\n",
    "            digit_arr2[i][j] = cv2.resize(mask,(28,28))\n",
    "        else:\n",
    "            digit_arr2[i][j] = cv2.resize(digit_arr2[i][j],(28,28))\n",
    "        if i == 9 : i =9\n",
    "        cv2.imwrite('./save/'+str(i)+'_'+str(j)+'.jpg',digit_arr2[i][j])\n",
    "\n"
   ]
  },
  {
   "cell_type": "code",
   "execution_count": null,
   "id": "fe9a8837",
   "metadata": {},
   "outputs": [],
   "source": []
  }
 ],
 "metadata": {
  "kernelspec": {
   "display_name": "Python 3 (ipykernel)",
   "language": "python",
   "name": "python3"
  },
  "language_info": {
   "codemirror_mode": {
    "name": "ipython",
    "version": 3
   },
   "file_extension": ".py",
   "mimetype": "text/x-python",
   "name": "python",
   "nbconvert_exporter": "python",
   "pygments_lexer": "ipython3",
   "version": "3.8.8"
  }
 },
 "nbformat": 4,
 "nbformat_minor": 5
}
